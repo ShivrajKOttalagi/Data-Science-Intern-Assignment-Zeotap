{
 "cells": [
  {
   "cell_type": "code",
   "execution_count": 1,
   "id": "6d6b2796-69ce-4e61-b93d-a1b5f3b6b86d",
   "metadata": {},
   "outputs": [],
   "source": [
    "import pandas as pd\n",
    "import numpy as np\n",
    "from sklearn.metrics.pairwise import cosine_similarity\n",
    "from sklearn.preprocessing import StandardScaler"
   ]
  },
  {
   "cell_type": "code",
   "execution_count": 2,
   "id": "16ec5b77-b2e4-40aa-8572-d098b972b384",
   "metadata": {},
   "outputs": [],
   "source": [
    "# Load the datasets\n",
    "customers = pd.read_csv('Customers.csv')\n",
    "products = pd.read_csv('Products.csv')\n",
    "transactions = pd.read_csv('Transactions.csv')"
   ]
  },
  {
   "cell_type": "code",
   "execution_count": 3,
   "id": "dcc11ce7-4129-4d47-b0b2-9107ec2910ae",
   "metadata": {},
   "outputs": [],
   "source": [
    "# Merge transactions with customer and product data\n",
    "transactions = transactions.merge(customers, on='CustomerID', how='left')\n",
    "transactions = transactions.merge(products, on='ProductID', how='left')"
   ]
  },
  {
   "cell_type": "code",
   "execution_count": 4,
   "id": "fed95c2d-f145-4bdd-9fd5-e1496a4921a4",
   "metadata": {},
   "outputs": [],
   "source": [
    "# 1. Total spending per customer\n",
    "total_spending = transactions.groupby('CustomerID')['TotalValue'].sum().reset_index()\n",
    "total_spending.rename(columns={'TotalValue': 'TotalSpending'}, inplace=True)\n",
    "\n",
    "# 2. Number of transactions per customer\n",
    "transaction_count = transactions.groupby('CustomerID')['TransactionID'].nunique().reset_index()\n",
    "transaction_count.rename(columns={'TransactionID': 'TransactionCount'}, inplace=True)\n",
    "\n",
    "# 3. Average transaction value per customer\n",
    "avg_transaction_value = transactions.groupby('CustomerID')['TotalValue'].mean().reset_index()\n",
    "avg_transaction_value.rename(columns={'TotalValue': 'AvgTransactionValue'}, inplace=True)\n",
    "\n",
    "# 4. Preferred product categories per customer\n",
    "category_preferences = transactions.groupby(['CustomerID', 'Category'])['Quantity'].sum().unstack(fill_value=0).reset_index()\n",
    "\n",
    "# 5. Region (one-hot encoding)\n",
    "region_dummies = pd.get_dummies(customers['Region'], prefix='Region')\n"
   ]
  },
  {
   "cell_type": "code",
   "execution_count": 5,
   "id": "554c9732-1b90-4390-b7a3-da9e7fdc85ee",
   "metadata": {},
   "outputs": [],
   "source": [
    "# Combine all features into a single dataframe\n",
    "customer_features = customers[['CustomerID']].copy()\n",
    "customer_features = customer_features.merge(total_spending, on='CustomerID', how='left')\n",
    "customer_features = customer_features.merge(transaction_count, on='CustomerID', how='left')\n",
    "customer_features = customer_features.merge(avg_transaction_value, on='CustomerID', how='left')\n",
    "customer_features = customer_features.merge(category_preferences, on='CustomerID', how='left')\n",
    "customer_features = pd.merge(region_dummies, customer_features, left_index=True, right_index=True)"
   ]
  },
  {
   "cell_type": "code",
   "execution_count": 6,
   "id": "1b28371a-f90f-4f5b-9da8-e69ae0381864",
   "metadata": {},
   "outputs": [],
   "source": [
    "# Fill missing values with 0\n",
    "customer_features = customer_features.fillna(0)"
   ]
  },
  {
   "cell_type": "code",
   "execution_count": 7,
   "id": "d5d21b27-0349-4677-ae7a-47f677e156ac",
   "metadata": {},
   "outputs": [],
   "source": [
    "# Standardize the features\n",
    "scaler = StandardScaler()\n",
    "customer_features_scaled = scaler.fit_transform(customer_features.drop('CustomerID', axis=1))"
   ]
  },
  {
   "cell_type": "code",
   "execution_count": 8,
   "id": "a60f15cb-c640-410f-ae3e-56abaca0e1b1",
   "metadata": {},
   "outputs": [],
   "source": [
    "#Calculate cosine similarity between customers\n",
    "similarity_matrix = cosine_similarity(customer_features_scaled)"
   ]
  },
  {
   "cell_type": "code",
   "execution_count": 9,
   "id": "b8955391-77b6-4b92-bc1e-6208f5d5a119",
   "metadata": {},
   "outputs": [],
   "source": [
    "# Create a dataframe for similarity scores\n",
    "similarity_df = pd.DataFrame(similarity_matrix, index=customer_features['CustomerID'], columns=customer_features['CustomerID'])"
   ]
  },
  {
   "cell_type": "code",
   "execution_count": 10,
   "id": "3293d2ba-45d2-4d4a-94f9-718da4ad959e",
   "metadata": {},
   "outputs": [],
   "source": [
    "# Function to get top 3 similar customers\n",
    "def get_top_similar_customers(customer_id, similarity_df, top_n=3):\n",
    "    # Get similarity scores for the given customer\n",
    "    similarities = similarity_df[customer_id].sort_values(ascending=False)\n",
    "    # Exclude the customer itself\n",
    "    similarities = similarities.drop(customer_id)\n",
    "    # Return top N similar customers with their scores\n",
    "    return similarities.head(top_n).reset_index().values.tolist()"
   ]
  },
  {
   "cell_type": "code",
   "execution_count": 11,
   "id": "c7f43eed-9db1-41b8-9599-1df4ac606f99",
   "metadata": {},
   "outputs": [],
   "source": [
    "# Generate recommendations for the first 20 customers (C0001 - C0020)\n",
    "lookalike_map = {}\n",
    "for customer_id in customer_features['CustomerID'][:20]:\n",
    "    top_similar_customers = get_top_similar_customers(customer_id, similarity_df)\n",
    "    lookalike_map[customer_id] = top_similar_customers"
   ]
  },
  {
   "cell_type": "code",
   "execution_count": 12,
   "id": "bd13796f-408c-4350-934c-10fe187dc89e",
   "metadata": {},
   "outputs": [],
   "source": [
    "# Save the results to a CSV file\n",
    "lookalike_df = pd.DataFrame(lookalike_map.items(), columns=['CustomerID', 'Lookalikes'])\n",
    "lookalike_df.to_csv('Shivaraj_Kottalagi_Lookalike.csv', index=False)"
   ]
  },
  {
   "cell_type": "code",
   "execution_count": 13,
   "id": "7975dea0-1f77-4afd-b20f-c7b82e107ce8",
   "metadata": {},
   "outputs": [
    {
     "name": "stdout",
     "output_type": "stream",
     "text": [
      "Lookalike Recommendations:\n",
      "   CustomerID                                         Lookalikes\n",
      "0       C0001  [[C0120, 0.860193858504215], [C0181, 0.8247506...\n",
      "1       C0002  [[C0178, 0.9328767066039853], [C0159, 0.929374...\n",
      "2       C0003  [[C0031, 0.8723876657395959], [C0133, 0.863771...\n",
      "3       C0004  [[C0012, 0.9331206487293933], [C0113, 0.918595...\n",
      "4       C0005  [[C0007, 0.9539797213085559], [C0140, 0.913135...\n",
      "5       C0006  [[C0187, 0.8712322215405164], [C0158, 0.770777...\n",
      "6       C0007  [[C0005, 0.9539797213085559], [C0140, 0.934472...\n",
      "7       C0008  [[C0109, 0.8346420065150637], [C0194, 0.816878...\n",
      "8       C0009  [[C0198, 0.971648593685618], [C0060, 0.9434913...\n",
      "9       C0010  [[C0111, 0.9052530518400612], [C0062, 0.822599...\n",
      "10      C0011  [[C0107, 0.9118210727341978], [C0190, 0.850183...\n",
      "11      C0012  [[C0004, 0.9331206487293933], [C0113, 0.927538...\n",
      "12      C0013  [[C0099, 0.9388776662608045], [C0188, 0.873803...\n",
      "13      C0014  [[C0060, 0.9802150292925259], [C0198, 0.951988...\n",
      "14      C0015  [[C0058, 0.9365358425353505], [C0036, 0.934554...\n",
      "15      C0016  [[C0117, 0.9009646014359795], [C0042, 0.818540...\n",
      "16      C0017  [[C0075, 0.9460990240743891], [C0057, 0.847117...\n",
      "17      C0018  [[C0068, 0.861998274273808], [C0122, 0.8458472...\n",
      "18      C0019  [[C0121, 0.7892080806842046], [C0119, 0.788446...\n",
      "19      C0020  [[C0050, 0.8537069347551636], [C0015, 0.831632...\n"
     ]
    }
   ],
   "source": [
    "# Display the results\n",
    "print(\"Lookalike Recommendations:\")\n",
    "print(lookalike_df)"
   ]
  },
  {
   "cell_type": "code",
   "execution_count": null,
   "id": "2c795c71-324c-4532-917a-02bc28c04443",
   "metadata": {},
   "outputs": [],
   "source": []
  }
 ],
 "metadata": {
  "kernelspec": {
   "display_name": "Python 3 (ipykernel)",
   "language": "python",
   "name": "python3"
  },
  "language_info": {
   "codemirror_mode": {
    "name": "ipython",
    "version": 3
   },
   "file_extension": ".py",
   "mimetype": "text/x-python",
   "name": "python",
   "nbconvert_exporter": "python",
   "pygments_lexer": "ipython3",
   "version": "3.11.7"
  }
 },
 "nbformat": 4,
 "nbformat_minor": 5
}
